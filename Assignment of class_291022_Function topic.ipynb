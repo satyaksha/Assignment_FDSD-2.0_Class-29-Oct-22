{
 "cells": [
  {
   "cell_type": "markdown",
   "id": "d51e24ea",
   "metadata": {},
   "source": [
    "Q1. write a function which will try to find out len of a string without using an inbuilt len function"
   ]
  },
  {
   "cell_type": "code",
   "execution_count": 1,
   "id": "fc89bbd5",
   "metadata": {},
   "outputs": [],
   "source": [
    "def find_len1(a):\n",
    "    z = 0\n",
    "    for i in a:\n",
    "        z += 1\n",
    "    print(f\"length of {a} is {z}\")"
   ]
  },
  {
   "cell_type": "code",
   "execution_count": 2,
   "id": "d34d13bb",
   "metadata": {},
   "outputs": [],
   "source": [
    "s=\"Satyaksha Kumar dubey\""
   ]
  },
  {
   "cell_type": "code",
   "execution_count": 3,
   "id": "b51adc42",
   "metadata": {},
   "outputs": [
    {
     "name": "stdout",
     "output_type": "stream",
     "text": [
      "length of Satyaksha Kumar dubey is 21\n"
     ]
    }
   ],
   "source": [
    "find_len1(s)"
   ]
  },
  {
   "cell_type": "markdown",
   "id": "283c5e65",
   "metadata": {},
   "source": [
    "Q2.write a function which  will be able to print an index of list element without using an index function"
   ]
  },
  {
   "cell_type": "code",
   "execution_count": 4,
   "id": "e95f349e",
   "metadata": {},
   "outputs": [],
   "source": [
    "def find_Ind(a):\n",
    "    \n",
    "    for i in range(len(a)):\n",
    "        print(f\"index of {a[i]} is {i}\")"
   ]
  },
  {
   "cell_type": "code",
   "execution_count": 5,
   "id": "8b81d6dd",
   "metadata": {},
   "outputs": [],
   "source": [
    "l6=[1,2,3,4,5,6,\"satya\",\"dubey\"]"
   ]
  },
  {
   "cell_type": "code",
   "execution_count": 6,
   "id": "7cf2a08a",
   "metadata": {},
   "outputs": [
    {
     "name": "stdout",
     "output_type": "stream",
     "text": [
      "index of 1 is 0\n",
      "index of 2 is 1\n",
      "index of 3 is 2\n",
      "index of 4 is 3\n",
      "index of 5 is 4\n",
      "index of 6 is 5\n",
      "index of satya is 6\n",
      "index of dubey is 7\n"
     ]
    }
   ],
   "source": [
    "find_Ind(l6)"
   ]
  },
  {
   "cell_type": "markdown",
   "id": "09c49649",
   "metadata": {},
   "source": [
    "Q5:- write a function which will take input as a list with any kind of numeric value and give an out as a multiplication of \n",
    "all the numeric data l = [3.5, 6.56, 4,5,\"sudh\" , \"ineuron\" , 'fsda bootcamp 2.0']"
   ]
  },
  {
   "cell_type": "code",
   "execution_count": 7,
   "id": "d0b0342b",
   "metadata": {},
   "outputs": [],
   "source": [
    "def multi():\n",
    "    l = [3.5, 6.56, 4,5,\"sudh\" , \"ineuron\" , 'fsda bootcamp 2.0']\n",
    "    a=1\n",
    "    for i in l:\n",
    "        if type(i)== float or type(i)==int:\n",
    "            a=i*a\n",
    "        \n",
    "    return a "
   ]
  },
  {
   "cell_type": "code",
   "execution_count": 8,
   "id": "ca61b663",
   "metadata": {},
   "outputs": [
    {
     "data": {
      "text/plain": [
       "459.19999999999993"
      ]
     },
     "execution_count": 8,
     "metadata": {},
     "output_type": "execute_result"
    }
   ],
   "source": [
    "multi()"
   ]
  },
  {
   "cell_type": "markdown",
   "id": "58116220",
   "metadata": {},
   "source": [
    "# Note:- help taken form internet to execute further questions\n"
   ]
  },
  {
   "cell_type": "markdown",
   "id": "2b5e2def",
   "metadata": {},
   "source": [
    "Q3. write a function which will be able to print an ip address of your system"
   ]
  },
  {
   "cell_type": "code",
   "execution_count": 9,
   "id": "39abe44c",
   "metadata": {},
   "outputs": [
    {
     "name": "stdout",
     "output_type": "stream",
     "text": [
      "49.36.27.52\n"
     ]
    }
   ],
   "source": [
    "from urllib.request import urlopen\n",
    "import re as r\n",
    "def getIP():\n",
    "    d = str(urlopen('http://checkip.dyndns.com/')\n",
    "            .read())\n",
    "\n",
    "    return r.compile(r'Address: (\\d+\\.\\d+\\.\\d+\\.\\d+)').search(d).group(1)\n",
    "\n",
    "print(getIP())"
   ]
  },
  {
   "cell_type": "code",
   "execution_count": 11,
   "id": "24c166ed",
   "metadata": {},
   "outputs": [
    {
     "name": "stdout",
     "output_type": "stream",
     "text": [
      "Your IP address is 192.168.29.93 \n"
     ]
    }
   ],
   "source": [
    "# next method\n",
    "import socket\n",
    "hostname = socket.gethostname()\n",
    "IPadr = socket.gethostbyname(hostname)\n",
    "\n",
    "print(f\"Your IP address is {IPadr} \")"
   ]
  },
  {
   "cell_type": "markdown",
   "id": "26558a3e",
   "metadata": {},
   "source": [
    "Q4 write a function which will shutdown your system"
   ]
  },
  {
   "cell_type": "code",
   "execution_count": 2,
   "id": "23aa8ff1",
   "metadata": {},
   "outputs": [],
   "source": [
    "import os\n",
    "def shut():\n",
    "    shutdown = input(\"Do you wish to shutdown your computer ? (yes / no): \")\n",
    "    if shutdown == 'no':\n",
    "        exit()\n",
    "    else:\n",
    "        os.system(\"shutdown /s /t 1\")"
   ]
  },
  {
   "cell_type": "code",
   "execution_count": 3,
   "id": "800898a9",
   "metadata": {},
   "outputs": [
    {
     "name": "stdout",
     "output_type": "stream",
     "text": [
      "Do you wish to shutdown your computer ? (yes / no): no\n"
     ]
    }
   ],
   "source": [
    "shut()"
   ]
  },
  {
   "cell_type": "code",
   "execution_count": null,
   "id": "f3706c83",
   "metadata": {},
   "outputs": [],
   "source": [
    "Q7 write a function which will be able to send a mail to anyone"
   ]
  },
  {
   "cell_type": "code",
   "execution_count": 1,
   "id": "e6aa2fdd",
   "metadata": {},
   "outputs": [],
   "source": [
    "import smtplib\n",
    "def mail():\n",
    "    s = smtplib.SMTP('smtp.gmail.com', 587)\n",
    "    s.starttls()\n",
    "    s.login(\"satyakshadubey@gmail.com\", \"hdytistvrxqxnmsv\")\n",
    "    message = \"hello sir, test msg\"\n",
    "    s.sendmail(\"satyakshadubey@gmail.com\", \"satyakshakumardubey@gmail.com\", message)\n",
    "    s.quit()"
   ]
  },
  {
   "cell_type": "code",
   "execution_count": 2,
   "id": "ee8747e3",
   "metadata": {},
   "outputs": [],
   "source": [
    "mail()"
   ]
  },
  {
   "cell_type": "code",
   "execution_count": null,
   "id": "941c4def",
   "metadata": {},
   "outputs": [],
   "source": []
  }
 ],
 "metadata": {
  "kernelspec": {
   "display_name": "Python 3 (ipykernel)",
   "language": "python",
   "name": "python3"
  },
  "language_info": {
   "codemirror_mode": {
    "name": "ipython",
    "version": 3
   },
   "file_extension": ".py",
   "mimetype": "text/x-python",
   "name": "python",
   "nbconvert_exporter": "python",
   "pygments_lexer": "ipython3",
   "version": "3.9.12"
  }
 },
 "nbformat": 4,
 "nbformat_minor": 5
}
